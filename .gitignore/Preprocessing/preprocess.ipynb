{
 "cells": [
  {
   "cell_type": "code",
   "execution_count": 23,
   "metadata": {},
   "outputs": [
    {
     "name": "stdout",
     "output_type": "stream",
     "text": [
      "FictionpressSubsample/Action - 0bsessi0ns - Western Escapades of Eric Shadow Anderson.txt\n",
      "FictionpressSubsample/Action - 1chi50 - One minute battlefield.txt\n",
      "FictionpressSubsample/Action - 1DeathEater - The Legend of Stevie-Man.txt\n"
     ]
    }
   ],
   "source": [
    "__name__ = \"folder_to_csv\"\n",
    "\n",
    "import os\n",
    "import pandas as pd\n",
    "import numpy as np\n",
    "\n",
    "from preprocessmodule import folder_to_csv\n",
    "\n",
    "folder_to_csv(foldername= \"FictionpressSubsample\")"
   ]
  }
 ],
 "metadata": {
  "kernelspec": {
   "display_name": "Python 3.9.12 ('base')",
   "language": "python",
   "name": "python3"
  },
  "language_info": {
   "codemirror_mode": {
    "name": "ipython",
    "version": 3
   },
   "file_extension": ".py",
   "mimetype": "text/x-python",
   "name": "python",
   "nbconvert_exporter": "python",
   "pygments_lexer": "ipython3",
   "version": "3.9.12"
  },
  "orig_nbformat": 4,
  "vscode": {
   "interpreter": {
    "hash": "990c85b3dd8660dc63904ee3af817ceb52b8453d0f6531cbe1e62b0666352140"
   }
  }
 },
 "nbformat": 4,
 "nbformat_minor": 2
}
